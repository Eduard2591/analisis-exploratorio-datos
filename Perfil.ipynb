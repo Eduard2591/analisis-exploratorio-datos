{
  "nbformat": 4,
  "nbformat_minor": 0,
  "metadata": {
    "colab": {
      "provenance": [],
      "authorship_tag": "ABX9TyN32hJg+X1z4xyoIXQ/Ub/B"
    },
    "kernelspec": {
      "name": "python3",
      "display_name": "Python 3"
    },
    "language_info": {
      "name": "python"
    }
  },
  "cells": [
    {
      "cell_type": "code",
      "execution_count": null,
      "metadata": {
        "id": "wjncn7eEK_9p"
      },
      "outputs": [],
      "source": [
        "# Instalar la librería de perfilado de datos\n",
        "!pip install ydata-profiling"
      ]
    },
    {
      "cell_type": "code",
      "source": [
        "# Importamos librerias\n",
        "import pandas as pd\n",
        "from ydata_profiling import ProfileReport"
      ],
      "metadata": {
        "colab": {
          "base_uri": "https://localhost:8080/",
          "height": 81
        },
        "id": "EI2qeVCLLTb2",
        "outputId": "e78400a3-4ead-4b95-916d-41e34fe27fd6"
      },
      "execution_count": 2,
      "outputs": [
        {
          "output_type": "display_data",
          "data": {
            "text/plain": [
              "<IPython.core.display.HTML object>"
            ],
            "text/html": [
              "\n",
              "            <div>\n",
              "                <ins><a href=\"https://ydata.ai/register\">Upgrade to ydata-sdk</a></ins>\n",
              "                <p>\n",
              "                    Improve your data and profiling with ydata-sdk, featuring data quality scoring, redundancy detection, outlier identification, text validation, and synthetic data generation.\n",
              "                </p>\n",
              "            </div>\n",
              "            "
            ]
          },
          "metadata": {}
        }
      ]
    },
    {
      "cell_type": "code",
      "source": [
        "FINANCIEROS = \"/content/Datos1_Unidad1.xlsx\"\n",
        "datos = pd.read_excel(FINANCIEROS)\n",
        "\n",
        "print(\"Archivo cargado\")\n",
        "datos.info()\n",
        "print(\"\\nPrimeras 5 Filas\")\n",
        "print(datos.head())"
      ],
      "metadata": {
        "colab": {
          "base_uri": "https://localhost:8080/"
        },
        "id": "meZzEIwbLaUt",
        "outputId": "fbbab0c2-0d16-447d-c778-2c7d9329e1df"
      },
      "execution_count": 3,
      "outputs": [
        {
          "output_type": "stream",
          "name": "stdout",
          "text": [
            "Archivo cargado\n",
            "<class 'pandas.core.frame.DataFrame'>\n",
            "RangeIndex: 100 entries, 0 to 99\n",
            "Data columns (total 6 columns):\n",
            " #   Column            Non-Null Count  Dtype \n",
            "---  ------            --------------  ----- \n",
            " 0   ID                100 non-null    object\n",
            " 1   Salario           100 non-null    int64 \n",
            " 2   Gastos            100 non-null    int64 \n",
            " 3   Género            100 non-null    object\n",
            " 4   Ahorro            100 non-null    int64 \n",
            " 5   Crédito_Aprobado  100 non-null    int64 \n",
            "dtypes: int64(4), object(2)\n",
            "memory usage: 4.8+ KB\n",
            "\n",
            "Primeras 5 Filas\n",
            "          ID  Salario   Gastos Género   Ahorro  Crédito_Aprobado\n",
            "0  DNI442352  5888001  1425820      M  2231090          26773080\n",
            "1  DNI160972  2681577   593844      M  1043866          12526392\n",
            "2  DNI548996  6503861  1871383      F  2316239          27794868\n",
            "3  DNI121819  8302208  2261667      F  3020270          36243240\n",
            "4  DNI596596  6973396  1463632      M  2754882          33058584\n"
          ]
        }
      ]
    },
    {
      "cell_type": "code",
      "source": [
        "# Generar el informe de perfilado (lo guardamos en una variable)\n",
        "perfil = ProfileReport(\n",
        "    datos,\n",
        "    title=\"Informe de Perfilado de Datos\",\n",
        "    html={\"style\": {\"full_width\": True}},\n",
        "    sort=\"None\"\n",
        ")\n",
        "\n",
        "# Guardamos el archivo HTML\n",
        "perfil.to_file(\"informe_perfilado.html\")\n",
        "\n",
        "print(\"Informe de perfilado generado y guardado en 'informe_perfilado.html'\")"
      ],
      "metadata": {
        "id": "Cpmyn-MgMXeM"
      },
      "execution_count": null,
      "outputs": []
    }
  ]
}